{
 "cells": [
  {
   "cell_type": "markdown",
   "id": "e6597dd0",
   "metadata": {},
   "source": [
    "### никнейм на kaggle: dunbr.g\n"
   ]
  },
  {
   "cell_type": "code",
   "execution_count": 48,
   "id": "356bcba0",
   "metadata": {},
   "outputs": [],
   "source": [
    "\n",
    "import warnings\n",
    "\n",
    "import numpy as np \n",
    "import pandas as pd\n",
    "import seaborn as se  \n",
    "import matplotlib.pyplot as plt\n",
    "\n",
    "from sklearn.model_selection import train_test_split\n",
    "\n",
    "from sklearn.metrics import r2_score, mean_absolute_error, mean_squared_error,accuracy_score\n",
    "\n",
    "from sklearn.ensemble import BaggingRegressor\n",
    "from sklearn.ensemble import GradientBoostingRegressor\n",
    "\n",
    "from sklearn.preprocessing import MinMaxScaler ,RobustScaler, Normalizer,StandardScaler\n",
    "\n",
    "from sklearn.decomposition import PCA\n",
    "\n",
    "\n",
    "warnings.filterwarnings('ignore')"
   ]
  },
  {
   "cell_type": "code",
   "execution_count": null,
   "id": "d4aa35d0",
   "metadata": {},
   "outputs": [],
   "source": [
    "# функция для изучения и визуализации вещественных признаков\n",
    "import matplotlib.pyplot as plt\n",
    "import numpy as np\n",
    "import seaborn as sns"
   ]
  },
  {
   "cell_type": "code",
   "execution_count": null,
   "id": "d8c66497",
   "metadata": {},
   "outputs": [],
   "source": [
    "def evaluate_preds(train_true_values, train_pred_values):\n",
    "    print(\"Train R2:\\t\" + str(round(r2_score(train_true_values, train_pred_values), 3)))    \n",
    "    plt.figure(figsize=(18,10))\n",
    "    \n",
    "    plt.plot(121)\n",
    "    sns.scatterplot(x=train_pred_values, y=train_true_values)\n",
    "    plt.xlabel('Predicted values')\n",
    "    plt.ylabel('True values')\n",
    "    plt.title('Train sample prediction')\n",
    "\n",
    "    plt.show()"
   ]
  },
  {
   "cell_type": "code",
   "execution_count": 43,
   "id": "b1c0fd41",
   "metadata": {},
   "outputs": [],
   "source": [
    "def cor_matrix(df,tg,cl=0.3,rnd=2,fs=(16,8)):\n",
    "    df_corr = df.corr()\n",
    "    plt.figure(figsize = fs)\n",
    "    sns.set(font_scale=0.8)\n",
    "    df_corr_round = np.round(df_corr, rnd)\n",
    "    df_corr_round[np.abs(df_corr) < cl] = 0\n",
    "    sns.heatmap(df_corr_round, annot=True, linewidths=1.5, cmap='coolwarm')\n",
    "    plt.show()"
   ]
  },
  {
   "cell_type": "code",
   "execution_count": 2,
   "id": "ec518501",
   "metadata": {},
   "outputs": [],
   "source": [
    "\n",
    "def learn_real_features(df, feature_name):\n",
    "    if df[feature_name].dtype.name in ['float64', 'float32', 'float16', 'int8', 'int16', 'int32']:\n",
    "        plt.figure(figsize = (16, 8))\n",
    "        sns.distplot(df[feature_name])\n",
    "        y = np.linspace(0, 0.000005, 10)\n",
    "        feature_mean = round(df[feature_name].mean(), 2)\n",
    "        feature_median = df[feature_name].median()\n",
    "        feature_mode = df[feature_name].mode()[0]\n",
    "        feature_min = round(df[feature_name].min(), 2)\n",
    "        feature_max = round(df[feature_name].max(), 2)\n",
    "        feature_NA_number = df[feature_name].isnull().sum()\n",
    "        plt.plot([feature_mean] * 10, y, label='mean',  linewidth=4)\n",
    "        plt.plot([feature_median] * 10, y, label='median',  linewidth=4)\n",
    "        plt.plot([feature_mode] * 10, y, label='mode', linewidth=4)\n",
    "        plt.title('Distribution of {} '.format(feature_name))\n",
    "        plt.legend()\n",
    "        print(f'median - {feature_median}\\nmean - {feature_mean}\\nmode - {feature_mode}\\nMin - {feature_min}\\nMax - {feature_max}\\nNA number - {feature_NA_number}')\n",
    "        plt.show()\n",
    "    else:\n",
    "        print(\"Признак не является вещественным\")"
   ]
  },
  {
   "cell_type": "code",
   "execution_count": null,
   "id": "1d23f243",
   "metadata": {},
   "outputs": [],
   "source": [
    "def learn_target_correlation(df,tg):\n",
    "    correlation = df.corrwith(df[tg]).sort_values(ascending=False)\n",
    "    correlation.drop('Price', inplace=True)\n",
    "\n",
    "    plt.figure(figsize = (16, 8))\n",
    "    plt.bar(correlation.index, correlation)\n",
    "    plt.xticks(rotation='90')\n",
    "    plt.xlabel('Features', fontsize=15)\n",
    "    plt.ylabel('Correlation', fontsize=15)\n",
    "    plt.title('Feature correlation', fontsize=15)\n",
    "    plt.show()"
   ]
  },
  {
   "cell_type": "code",
   "execution_count": 3,
   "id": "9df2e3f5",
   "metadata": {},
   "outputs": [],
   "source": [
    "def reduce_mem_usage(df):\n",
    "    \"\"\" iterate through all the columns of a dataframe and modify the data type\n",
    "        to reduce memory usage.        \n",
    "    \"\"\"\n",
    "    start_mem = df.memory_usage().sum() / 1024**2\n",
    "    print('Memory usage of dataframe is {:.2f} MB'.format(start_mem))\n",
    "    \n",
    "    for col in df.columns:\n",
    "        col_type = df[col].dtype\n",
    "        \n",
    "        if col_type != object:\n",
    "            c_min = df[col].min()\n",
    "            c_max = df[col].max()\n",
    "            if str(col_type)[:3] == 'int':\n",
    "                if c_min > np.iinfo(np.int8).min and c_max < np.iinfo(np.int8).max:\n",
    "                    df[col] = df[col].astype(np.int8)\n",
    "                elif c_min > np.iinfo(np.int16).min and c_max < np.iinfo(np.int16).max:\n",
    "                    df[col] = df[col].astype(np.int16)\n",
    "                elif c_min > np.iinfo(np.int32).min and c_max < np.iinfo(np.int32).max:\n",
    "                    df[col] = df[col].astype(np.int32)\n",
    "                elif c_min > np.iinfo(np.int64).min and c_max < np.iinfo(np.int64).max:\n",
    "                    df[col] = df[col].astype(np.int64)  \n",
    "            else:\n",
    "                if c_min > np.finfo(np.float32).min and c_max < np.finfo(np.float32).max:\n",
    "                    df[col] = df[col].astype(np.float32)\n",
    "                else:\n",
    "                    df[col] = df[col].astype(np.float64)\n",
    "#        else:\n",
    "#            df[col] = df[col].astype('category')\n",
    "\n",
    "    end_mem = df.memory_usage().sum() / 1024**2\n",
    "    print('Memory usage after optimization is: {:.2f} MB'.format(end_mem))\n",
    "    print('Decreased by {:.1f}%'.format(100 * (start_mem - end_mem) / start_mem))\n",
    "    \n",
    "    return df\n"
   ]
  },
  {
   "cell_type": "code",
   "execution_count": 4,
   "id": "963645c3",
   "metadata": {},
   "outputs": [],
   "source": [
    "import numpy as np\n",
    "import pandas as pd\n",
    "import datetime as dt\n",
    "\n",
    "class DataPipeline:\n",
    "    \"\"\"Подготовка исходных данных\"\"\"\n",
    "    \n",
    "    def __init__(self):\n",
    "        \"\"\"Параметры класса\"\"\"\n",
    "        self.medians = None\n",
    "        self.square_quant_max = None\n",
    "        self.square_quant_min = None\n",
    "        self.life_square_min = None\n",
    "        self.life_square_max = None\n",
    "        self.kitch_square_min = None\n",
    "        self.kitch_square_max = None\n",
    "        self.max_floor_val = None\n",
    "    def fit(self, df):\n",
    "        self.medians = df.median()\n",
    "        self.square_quant_max = 310 #df['Square'].quantile(0.995)\n",
    "        self.square_quant_min = 14 #df['Square'].quantile(0.005)\n",
    "        self.life_square_min = 8\n",
    "        self.life_square_max = 295 #df['LifeSquare'].quantile(0.99)\n",
    "        self.kitch_square_min = 4\n",
    "        self.kitch_square_max = 30\n",
    "        self.max_floor_val = 30\n",
    "        \"\"\"Сохранение статистик\"\"\"\n",
    "        \n",
    "        # Расчет медиан\n",
    "        self.medians = df.median()\n",
    "        \n",
    "    def transform(self, df):\n",
    "        \"\"\"Трансформация данных\"\"\"\n",
    "        # Пройдемтся по каждому столбцу:\n",
    "        # Rooms\n",
    "        df['Rooms'] = df['Rooms'].astype('int')\n",
    "        df.loc[df['Rooms']==0,'Rooms'] = 1\n",
    "        df.loc[df['Rooms']>=6,'Rooms'] = self.medians['Rooms']\n",
    "        #Square\n",
    "        df.loc[df['Square']>self.square_quant_max,'Square']=self.medians['Square']\n",
    "        df.loc[df['Square']<self.square_quant_min,'Square']=self.medians['Square']\n",
    "        \n",
    "        \n",
    "        #LifeSquare\n",
    "        ##LifeSquare = Square - KithcenSq - OtherSq\n",
    "        ##OtherSq = 0.1*Sqare\n",
    "        ###пропуски\n",
    "        cond_isna_ls = df['LifeSquare'].isna()\n",
    "        df.loc[cond_isna_ls,'LifeSquare'] = df.loc[cond_isna_ls,'Square']-df.loc[cond_isna_ls,'KitchenSquare']-df.loc[cond_isna_ls,'Square']*0.1\n",
    "        ###выбросы\n",
    "        df.loc[df['LifeSquare']>self.life_square_max,'LifeSquare']=self.medians['LifeSquare']\n",
    "        df.loc[df['LifeSquare']<self.life_square_min,'LifeSquare']=self.medians['LifeSquare']\n",
    "        #KitchenSquare\n",
    "        df.loc[df['KitchenSquare']>self.kitch_square_max,'KitchenSquare']=self.medians['KitchenSquare']\n",
    "        df.loc[df['KitchenSquare']<self.kitch_square_min,'KitchenSquare']=self.medians['KitchenSquare']\n",
    "        cond2= df['Square']<(df['LifeSquare']+20)\n",
    "        df.loc[cond2,'LifeSquare'] = df.loc[cond2,'Square']*0.7\n",
    "        #Floor\n",
    "        df.loc[df['Floor']>self.max_floor_val,'Floor'] = self.max_floor_val\n",
    "        #HouseFloor\n",
    "        df.loc[df['HouseFloor']<df['Floor'],'HouseFloor'] = df.loc[df['HouseFloor']<df['Floor'],'Floor']\n",
    "        df.loc[df['HouseFloor']>self.max_floor_val,'HouseFloor'] = self.max_floor_val\n",
    "        #HouseYear\n",
    "        date = dt.datetime.now().year\n",
    "        df.loc[df['HouseYear']>date,'HouseYear']  = date\n",
    "        \n",
    "        \n",
    "        for i in ['Ecology_2','Ecology_3','Shops_2']:\n",
    "            df.loc[df[i]=='B',i] = 0\n",
    "            df.loc[df[i]=='A',i] = 1\n",
    "        \n",
    "        # Удаление ненужных признаков\n",
    "        df.drop(columns=['Id','Healthcare_1','Shops_1'], inplace=True)\n",
    "\n",
    "        #Social_2,3\n",
    "        df.loc[df['Social_3']>22,'Social_3'] = 22\n",
    "\n",
    "        df.loc[df['Social_2']>11900,'Social_2'] = 11900 #11217\n",
    "\n",
    "        return df\n"
   ]
  },
  {
   "cell_type": "code",
   "execution_count": 5,
   "id": "c9c5c596",
   "metadata": {},
   "outputs": [],
   "source": [
    "TRAIN_PATH='./train.csv'\n",
    "TEST_PATH='./test.csv'\n",
    "SUBMISSION_PATH = './data/sample_submission.csv'\n"
   ]
  },
  {
   "cell_type": "code",
   "execution_count": 6,
   "id": "8851f598",
   "metadata": {},
   "outputs": [],
   "source": [
    "#Read csv\n",
    "train = pd.read_csv(TRAIN_PATH)\n",
    "submission = pd.read_csv(SUBMISSION_PATH)\n",
    "target = 'Price'\n",
    "test_f = pd.read_csv(TEST_PATH)"
   ]
  },
  {
   "cell_type": "code",
   "execution_count": 7,
   "id": "22c427ea",
   "metadata": {},
   "outputs": [
    {
     "name": "stdout",
     "output_type": "stream",
     "text": [
      "Memory usage of dataframe is 1.53 MB\n",
      "Memory usage after optimization is: 0.69 MB\n",
      "Decreased by 55.0%\n",
      "Memory usage of dataframe is 0.72 MB\n",
      "Memory usage after optimization is: 0.31 MB\n",
      "Decreased by 56.6%\n"
     ]
    }
   ],
   "source": [
    "#Memory\n",
    "train = reduce_mem_usage(train)\n",
    "test_f = reduce_mem_usage(test_f)"
   ]
  },
  {
   "cell_type": "code",
   "execution_count": 19,
   "id": "cc0637ad",
   "metadata": {},
   "outputs": [
    {
     "name": "stdout",
     "output_type": "stream",
     "text": [
      "median - 192269.65625\n",
      "mean - 214138.859375\n",
      "mode - 182938.078125\n",
      "Min - 59174.78125\n",
      "Max - 633233.4375\n",
      "NA number - 0\n"
     ]
    },
    {
     "data": {
      "image/png": "[encoded data removed]",
      "text/plain": [
       "<Figure size 1152x576 with 1 Axes>"
      ]
     },
     "metadata": {
      "needs_background": "light"
     },
     "output_type": "display_data"
    }
   ],
   "source": [
    "learn_real_features(train,target)"
   ]
  },
  {
   "cell_type": "code",
   "execution_count": 8,
   "id": "86ce48d5",
   "metadata": {},
   "outputs": [],
   "source": [
    "X = train.drop(columns=[target],axis=1)\n",
    "y = train[target]"
   ]
  },
  {
   "cell_type": "code",
   "execution_count": 23,
   "id": "cae4fb7b",
   "metadata": {},
   "outputs": [
    {
     "data": {
      "image/png": "[encoded data removed]",
      "text/plain": [
       "<Figure size 1152x576 with 1 Axes>"
      ]
     },
     "metadata": {},
     "output_type": "display_data"
    }
   ],
   "source": [
    "learn_target_correlation(train,target)"
   ]
  },
  {
   "cell_type": "code",
   "execution_count": 42,
   "id": "79d29d11",
   "metadata": {},
   "outputs": [
    {
     "data": {
      "image/png": "[encoded data removed]",
      "text/plain": [
       "<Figure size 1152x576 with 2 Axes>"
      ]
     },
     "metadata": {},
     "output_type": "display_data"
    }
   ],
   "source": [
    "\n",
    "cor_matrix(train,target)"
   ]
  },
  {
   "cell_type": "code",
   "execution_count": null,
   "id": "fa055673",
   "metadata": {},
   "outputs": [],
   "source": []
  },
  {
   "cell_type": "code",
   "execution_count": 9,
   "id": "c1650edd",
   "metadata": {
    "scrolled": true
   },
   "outputs": [
    {
     "data": {
      "text/html": [
       "<div>\n",
       "<style scoped>\n",
       "    .dataframe tbody tr th:only-of-type {\n",
       "        vertical-align: middle;\n",
       "    }\n",
       "\n",
       "    .dataframe tbody tr th {\n",
       "        vertical-align: top;\n",
       "    }\n",
       "\n",
       "    .dataframe thead th {\n",
       "        text-align: right;\n",
       "    }\n",
       "</style>\n",
       "<table border=\"1\" class=\"dataframe\">\n",
       "  <thead>\n",
       "    <tr style=\"text-align: right;\">\n",
       "      <th></th>\n",
       "      <th>Id</th>\n",
       "      <th>DistrictId</th>\n",
       "      <th>Rooms</th>\n",
       "      <th>Square</th>\n",
       "      <th>LifeSquare</th>\n",
       "      <th>KitchenSquare</th>\n",
       "      <th>Floor</th>\n",
       "      <th>HouseFloor</th>\n",
       "      <th>HouseYear</th>\n",
       "      <th>Ecology_1</th>\n",
       "      <th>Ecology_2</th>\n",
       "      <th>Ecology_3</th>\n",
       "      <th>Social_1</th>\n",
       "      <th>Social_2</th>\n",
       "      <th>Social_3</th>\n",
       "      <th>Healthcare_1</th>\n",
       "      <th>Helthcare_2</th>\n",
       "      <th>Shops_1</th>\n",
       "      <th>Shops_2</th>\n",
       "    </tr>\n",
       "  </thead>\n",
       "  <tbody>\n",
       "    <tr>\n",
       "      <th>0</th>\n",
       "      <td>11809</td>\n",
       "      <td>27</td>\n",
       "      <td>3.0</td>\n",
       "      <td>115.027313</td>\n",
       "      <td>NaN</td>\n",
       "      <td>10.0</td>\n",
       "      <td>4</td>\n",
       "      <td>10.0</td>\n",
       "      <td>2014</td>\n",
       "      <td>0.075424</td>\n",
       "      <td>B</td>\n",
       "      <td>B</td>\n",
       "      <td>11</td>\n",
       "      <td>3097</td>\n",
       "      <td>0</td>\n",
       "      <td>NaN</td>\n",
       "      <td>0</td>\n",
       "      <td>0</td>\n",
       "      <td>B</td>\n",
       "    </tr>\n",
       "    <tr>\n",
       "      <th>1</th>\n",
       "      <td>3013</td>\n",
       "      <td>22</td>\n",
       "      <td>1.0</td>\n",
       "      <td>39.832523</td>\n",
       "      <td>23.169222</td>\n",
       "      <td>8.0</td>\n",
       "      <td>7</td>\n",
       "      <td>8.0</td>\n",
       "      <td>1966</td>\n",
       "      <td>0.118537</td>\n",
       "      <td>B</td>\n",
       "      <td>B</td>\n",
       "      <td>30</td>\n",
       "      <td>6207</td>\n",
       "      <td>1</td>\n",
       "      <td>1183.0</td>\n",
       "      <td>1</td>\n",
       "      <td>0</td>\n",
       "      <td>B</td>\n",
       "    </tr>\n",
       "    <tr>\n",
       "      <th>2</th>\n",
       "      <td>8215</td>\n",
       "      <td>1</td>\n",
       "      <td>3.0</td>\n",
       "      <td>78.342216</td>\n",
       "      <td>47.671970</td>\n",
       "      <td>10.0</td>\n",
       "      <td>2</td>\n",
       "      <td>17.0</td>\n",
       "      <td>1988</td>\n",
       "      <td>0.025609</td>\n",
       "      <td>B</td>\n",
       "      <td>B</td>\n",
       "      <td>33</td>\n",
       "      <td>5261</td>\n",
       "      <td>0</td>\n",
       "      <td>240.0</td>\n",
       "      <td>3</td>\n",
       "      <td>1</td>\n",
       "      <td>B</td>\n",
       "    </tr>\n",
       "    <tr>\n",
       "      <th>3</th>\n",
       "      <td>2352</td>\n",
       "      <td>1</td>\n",
       "      <td>1.0</td>\n",
       "      <td>40.409908</td>\n",
       "      <td>NaN</td>\n",
       "      <td>1.0</td>\n",
       "      <td>10</td>\n",
       "      <td>22.0</td>\n",
       "      <td>1977</td>\n",
       "      <td>0.007122</td>\n",
       "      <td>B</td>\n",
       "      <td>B</td>\n",
       "      <td>1</td>\n",
       "      <td>264</td>\n",
       "      <td>0</td>\n",
       "      <td>NaN</td>\n",
       "      <td>0</td>\n",
       "      <td>1</td>\n",
       "      <td>B</td>\n",
       "    </tr>\n",
       "    <tr>\n",
       "      <th>4</th>\n",
       "      <td>13866</td>\n",
       "      <td>94</td>\n",
       "      <td>2.0</td>\n",
       "      <td>64.285065</td>\n",
       "      <td>38.562515</td>\n",
       "      <td>9.0</td>\n",
       "      <td>16</td>\n",
       "      <td>16.0</td>\n",
       "      <td>1972</td>\n",
       "      <td>0.282798</td>\n",
       "      <td>B</td>\n",
       "      <td>B</td>\n",
       "      <td>33</td>\n",
       "      <td>8667</td>\n",
       "      <td>2</td>\n",
       "      <td>NaN</td>\n",
       "      <td>0</td>\n",
       "      <td>6</td>\n",
       "      <td>B</td>\n",
       "    </tr>\n",
       "  </tbody>\n",
       "</table>\n",
       "</div>"
      ],
      "text/plain": [
       "      Id  DistrictId  Rooms      Square  LifeSquare  KitchenSquare  Floor  \\\n",
       "0  11809          27    3.0  115.027313         NaN           10.0      4   \n",
       "1   3013          22    1.0   39.832523   23.169222            8.0      7   \n",
       "2   8215           1    3.0   78.342216   47.671970           10.0      2   \n",
       "3   2352           1    1.0   40.409908         NaN            1.0     10   \n",
       "4  13866          94    2.0   64.285065   38.562515            9.0     16   \n",
       "\n",
       "   HouseFloor  HouseYear  Ecology_1 Ecology_2 Ecology_3  Social_1  Social_2  \\\n",
       "0        10.0       2014   0.075424         B         B        11      3097   \n",
       "1         8.0       1966   0.118537         B         B        30      6207   \n",
       "2        17.0       1988   0.025609         B         B        33      5261   \n",
       "3        22.0       1977   0.007122         B         B         1       264   \n",
       "4        16.0       1972   0.282798         B         B        33      8667   \n",
       "\n",
       "   Social_3  Healthcare_1  Helthcare_2  Shops_1 Shops_2  \n",
       "0         0           NaN            0        0       B  \n",
       "1         1        1183.0            1        0       B  \n",
       "2         0         240.0            3        1       B  \n",
       "3         0           NaN            0        1       B  \n",
       "4         2           NaN            0        6       B  "
      ]
     },
     "execution_count": 9,
     "metadata": {},
     "output_type": "execute_result"
    }
   ],
   "source": [
    "X.head()"
   ]
  },
  {
   "cell_type": "code",
   "execution_count": 10,
   "id": "979ac81a",
   "metadata": {},
   "outputs": [],
   "source": [
    "data_p = DataPipeline()\n",
    "\n",
    "data_p.fit(X)\n",
    "X_train = data_p.transform(X)\n",
    "y_train = y\n",
    "test_f = data_p.transform(test_f)\n"
   ]
  },
  {
   "cell_type": "code",
   "execution_count": 11,
   "id": "f65e5e5d",
   "metadata": {},
   "outputs": [],
   "source": [
    "standard_scaler = RobustScaler()\n",
    "X_train = standard_scaler.fit_transform(X_train)\n",
    "test_f = standard_scaler.transform(test_f)"
   ]
  },
  {
   "cell_type": "code",
   "execution_count": 12,
   "id": "5522278a",
   "metadata": {},
   "outputs": [],
   "source": [
    "from sklearn.model_selection import cross_val_score,KFold\n"
   ]
  },
  {
   "cell_type": "code",
   "execution_count": 13,
   "id": "056c85dd",
   "metadata": {},
   "outputs": [],
   "source": [
    "from catboost import CatBoostRegressor"
   ]
  },
  {
   "cell_type": "code",
   "execution_count": 14,
   "id": "9987a127",
   "metadata": {},
   "outputs": [
    {
     "data": {
      "application/vnd.jupyter.widget-view+json": {
       "model_id": "c95265287b214938be4026e655f95762",
       "version_major": 2,
       "version_minor": 0
      },
      "text/plain": [
       "MetricVisualizer(layout=Layout(align_self='stretch', height='500px'))"
      ]
     },
     "metadata": {},
     "output_type": "display_data"
    },
    {
     "data": {
      "text/plain": [
       "<catboost.core.CatBoostRegressor at 0x7f63d0417e20>"
      ]
     },
     "execution_count": 14,
     "metadata": {},
     "output_type": "execute_result"
    }
   ],
   "source": [
    "cb_model = CatBoostRegressor(\n",
    "    silent=True,\n",
    "    learning_rate=0.02,\n",
    "    rsm=0.8,\n",
    "    iterations=2500,\n",
    "    eval_metric='RMSE',\n",
    "    depth=8,\n",
    "    l2_leaf_reg=1\n",
    ")\n",
    "\n",
    "cb_model.fit(X_train, y_train,verbose=False, plot=True)\n"
   ]
  },
  {
   "cell_type": "code",
   "execution_count": 15,
   "id": "5074a883",
   "metadata": {},
   "outputs": [
    {
     "name": "stdout",
     "output_type": "stream",
     "text": [
      "0.9374645141704528\n"
     ]
    }
   ],
   "source": [
    "y_train_preds = cb_model.predict(X_train)\n",
    "print(r2_score(y_train, y_train_preds))\n"
   ]
  },
  {
   "cell_type": "code",
   "execution_count": 16,
   "id": "0ecb479a",
   "metadata": {},
   "outputs": [],
   "source": [
    "\n",
    "cv_score = cross_val_score(\n",
    "    cb_model,\n",
    "    X_train,\n",
    "    y_train,\n",
    "    scoring='r2',\n",
    "    cv=KFold(\n",
    "            n_splits=5,\n",
    "            shuffle=True,\n",
    "            random_state=42\n",
    "    )\n",
    ")"
   ]
  },
  {
   "cell_type": "code",
   "execution_count": 17,
   "id": "ac786b68",
   "metadata": {
    "scrolled": true
   },
   "outputs": [
    {
     "name": "stdout",
     "output_type": "stream",
     "text": [
      "R2: 0.759\n"
     ]
    }
   ],
   "source": [
    "print(f'R2: {round(cv_score.mean(), 3)}')\n"
   ]
  },
  {
   "cell_type": "code",
   "execution_count": 44,
   "id": "335cb687",
   "metadata": {},
   "outputs": [
    {
     "data": {
      "text/plain": [
       "array([0.76527689, 0.75489439, 0.7455445 , 0.7587349 , 0.76984671])"
      ]
     },
     "execution_count": 44,
     "metadata": {},
     "output_type": "execute_result"
    }
   ],
   "source": [
    "cv_score"
   ]
  },
  {
   "cell_type": "code",
   "execution_count": 18,
   "id": "048a2875",
   "metadata": {},
   "outputs": [],
   "source": [
    "predict = cb_model.predict(test_f)\n",
    "\n",
    "submission['Price'] = predict\n",
    "\n",
    "submission.to_csv('./results/sub_cB_SC_40.csv',index=False)"
   ]
  },
  {
   "cell_type": "markdown",
   "id": "884b11be",
   "metadata": {},
   "source": [
    "## "
   ]
  }
 ],
 "metadata": {
  "kernelspec": {
   "display_name": "Python 3 (ipykernel)",
   "language": "python",
   "name": "python3"
  },
  "language_info": {
   "codemirror_mode": {
    "name": "ipython",
    "version": 3
   },
   "file_extension": ".py",
   "mimetype": "text/x-python",
   "name": "python",
   "nbconvert_exporter": "python",
   "pygments_lexer": "ipython3",
   "version": "3.8.10"
  }
 },
 "nbformat": 4,
 "nbformat_minor": 5
}
